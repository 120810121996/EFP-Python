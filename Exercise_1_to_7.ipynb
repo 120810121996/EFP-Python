{
 "cells": [
  {
   "cell_type": "markdown",
   "id": "bea6fb08",
   "metadata": {},
   "source": [
    "# Day_1"
   ]
  },
  {
   "cell_type": "code",
   "execution_count": null,
   "id": "7787e312",
   "metadata": {},
   "outputs": [],
   "source": [
    "#Given an array of intergers and an integer target, retun indices of the two nimbers such that they add up to target\n",
    "\n",
    "def addup(liste,a):\n",
    "    for i in range(len(liste)):\n",
    "        for j in range(i+1,len(licaractte)):\n",
    "            if (licaractte[i]+licaractte[j])==a:\n",
    "                return (i,j)\n",
    "            \n",
    "b=[3,7,9,0,6,1]\n",
    "t=4\n",
    "addup(b,t)"
   ]
  },
  {
   "cell_type": "markdown",
   "id": "956d1771",
   "metadata": {},
   "source": [
    "# Day_2"
   ]
  },
  {
   "cell_type": "code",
   "execution_count": 5,
   "id": "b4cfff04",
   "metadata": {},
   "outputs": [],
   "source": [
    " def sumSubarray(nums):\n",
    "    # define our variables with the first element of our liste\n",
    "    t=nums[0]\n",
    "    sum =nums[0] \n",
    "    rank =[]\n",
    "    \n",
    "    for i in range(1,len(nums)-1):\n",
    "        \n",
    "        # update the value of t\n",
    "        if nums[i] > t+nums[i]:\n",
    "           t=nums[i]\n",
    "        else:\n",
    "           t= t + nums[i]\n",
    "\n",
    "      #update the value of sum\n",
    "        if t > sum:\n",
    "           sum = t\n",
    "           rank.append(i)\n",
    "    return sum #return the sum of the element of the subarray\n"
   ]
  },
  {
   "cell_type": "code",
   "execution_count": 41,
   "id": "e5105d1c",
   "metadata": {},
   "outputs": [
    {
     "data": {
      "text/plain": [
       "74"
      ]
     },
     "execution_count": 41,
     "metadata": {},
     "output_type": "execute_result"
    }
   ],
   "source": [
    "#example of application\n",
    "sumSubarray([3,66,1,4,-67])"
   ]
  },
  {
   "cell_type": "markdown",
   "id": "6b4b755b",
   "metadata": {},
   "source": [
    "# Days_3"
   ]
  },
  {
   "cell_type": "code",
   "execution_count": null,
   "id": "a87d8e27",
   "metadata": {},
   "outputs": [],
   "source": [
    "\n",
    "''' define the function which take an array nums\n",
    ", with n object colored red, white or blue, sort them inplace so that \n",
    "objects of the same color are adjacent, with the colors in the order red, white and blue\n",
    "'''\n",
    "def myfunction(arrays):\n",
    "    #initilization of the empty array\n",
    "    l1=[]\n",
    "    l2=[]\n",
    "    l3=[]\n",
    "\n",
    "    #adding each color in the same liste \n",
    "    for i in p:\n",
    "        if i==\"red\":\n",
    "            l1.append(i) #for red color\n",
    "        elif i == \"white\":#for white color\n",
    "            l2.append(i)\n",
    "        else:\n",
    "            l3.append(i)# for blue color\n",
    "#fusion of these array\n",
    "    final = l1+l2+l3\n",
    "    return print(final)"
   ]
  },
  {
   "cell_type": "code",
   "execution_count": 4,
   "id": "780bd0b7",
   "metadata": {},
   "outputs": [
    {
     "name": "stdout",
     "output_type": "stream",
     "text": [
      "['red', 'red', 'white', 'white', 'blue', 'blue']\n"
     ]
    }
   ],
   "source": [
    "#example of application\n",
    "p = ['red', 'blue',\"white\", \"white\", \"red\", \"blue\"]# define the array\n",
    "myfunction(p)"
   ]
  },
  {
   "cell_type": "markdown",
   "id": "33cf00dd",
   "metadata": {},
   "source": [
    "# day 4"
   ]
  },
  {
   "cell_type": "code",
   "execution_count": null,
   "id": "e9174543",
   "metadata": {},
   "outputs": [],
   "source": [
    "#define the function  which has two parameters: a list and our target\n",
    "def fourUnique(liste, target):\n",
    "\n",
    "    #set only the distincts values in our liste\n",
    "    liste =list(set(liste)) \n",
    "\n",
    "    result = [] #initialise the list which will stock those value dont their sum equal to our target\n",
    "\n",
    "    #initialize the four compteurs for parcours our list\n",
    "    for i in range(len(liste)-3): \n",
    "        for j in range(i+1, len(liste)-2):\n",
    "            for k in range(j+1, len(liste)-1):\n",
    "                for l in range(k+1, len(liste)):\n",
    "\n",
    "                    #if we get those value which their sum equal to the target, add them in the list.\n",
    "                    if target == liste[i]+liste[j]+liste[k]+liste[l]: \n",
    "                        result.append([liste[i],liste[j],liste[k],liste[l]])\n",
    "    return result[0]\n"
   ]
  },
  {
   "cell_type": "code",
   "execution_count": null,
   "id": "f0adea76",
   "metadata": {},
   "outputs": [
    {
     "data": {
      "text/plain": [
       "[0, 1, 7, -1]"
      ]
     },
     "execution_count": 21,
     "metadata": {},
     "output_type": "execute_result"
    }
   ],
   "source": [
    "#example of application\n",
    "o=[1,-1,0,7,8,89,0,4,9,0,-2] #define our liste\n",
    "g(o, 7) #aplying the function"
   ]
  },
  {
   "cell_type": "markdown",
   "id": "e4140421",
   "metadata": {},
   "source": [
    "# day_5"
   ]
  },
  {
   "cell_type": "markdown",
   "id": "f7d8ff89",
   "metadata": {},
   "source": [
    "given an array of intervals where intervals[i=[starti, endi], merge all overlapping intervals, and return an array of the non-overlapping intervals that cover all the intervals in the input"
   ]
  },
  {
   "cell_type": "code",
   "execution_count": 47,
   "id": "06190e7a",
   "metadata": {},
   "outputs": [
    {
     "name": "stdout",
     "output_type": "stream",
     "text": [
      "The output is [[-42, 4], [99, 110]]\n"
     ]
    }
   ],
   "source": [
    "def IntervalMerg(k):\n",
    "    # sort those intervals in increasing oeder\n",
    "    k.sort()\n",
    "    result = [] #initialize the list which will contains the output\n",
    "\n",
    "    #Browse the list of interval\n",
    "    for interval in k:\n",
    "    #  check if one intervel is belong other\n",
    "        if len(result) == 0 or result[-1][1] < interval[0]:\n",
    "            result.append(interval)  #if no one is belong then add to our list result\n",
    "        else:\n",
    "        # merge of the invtervals\n",
    "            last= result[-1]\n",
    "            last[1] = max(last[1], interval[1])\n",
    "    return result\n",
    "\n",
    "# Applying our function\n",
    "k = [[99, 110], [-42, 2], [0, 1], [1, 4]]\n",
    "resultat = IntervalMerg(k)\n",
    "print(f\"The output is {resultat}\")  \n"
   ]
  },
  {
   "cell_type": "markdown",
   "id": "387dd26e",
   "metadata": {},
   "source": [
    "# day 6"
   ]
  },
  {
   "cell_type": "code",
   "execution_count": 70,
   "id": "5cc32cc1",
   "metadata": {},
   "outputs": [],
   "source": [
    "def charact(caract):\n",
    "    # Parcourir chaque caractère de la chaîne\n",
    "    l =[]\n",
    "    i = 0\n",
    "    while i < len(caract):\n",
    "        char = caract[i] \n",
    "         # check if the parenthes is open\n",
    "        if char == ')': \n",
    "            if len(l) > 0: \n",
    "                # delete the parenthese open in this push\n",
    "                l.pop()  \n",
    "            else:\n",
    "                # check and delete the parentheses closed\n",
    "                caract = caract[:i] + caract[i + 1:]\n",
    "                i -= 1  # update i\n",
    "        #check if the parenthese is open, thus add his index in the push\n",
    "        elif char == '(':  \n",
    "            l.append(i)  \n",
    "        i += 1  \n",
    "\n",
    "    # transforn our caract in list for manipulation\n",
    "    result = list(caract)\n",
    "\n",
    "    # tRows the list and replace the bad parentheses by en empty character \"\"\n",
    "    for i in l:\n",
    "        result[i] = ''  \n",
    "\n",
    "    # concatene all character which in the list to form the final output\n",
    "    final_result = ''\n",
    "    for char in result:\n",
    "        final_result += char  \n",
    "\n",
    "    return final_result\n",
    "\n"
   ]
  },
  {
   "cell_type": "code",
   "execution_count": 71,
   "id": "7e77fbdc",
   "metadata": {},
   "outputs": [
    {
     "data": {
      "text/plain": [
       "'How dare you?'"
      ]
     },
     "execution_count": 71,
     "metadata": {},
     "output_type": "execute_result"
    }
   ],
   "source": [
    "#Applying\n",
    "k = \"How dare) y(ou?\"\n",
    "charact(k)"
   ]
  },
  {
   "cell_type": "markdown",
   "id": "d38d2d0d",
   "metadata": {},
   "source": [
    "# day 7"
   ]
  },
  {
   "cell_type": "code",
   "execution_count": null,
   "id": "8d8cf97d",
   "metadata": {},
   "outputs": [],
   "source": [
    "\n",
    "\n",
    "def SortedString(chaine):\n",
    "    chaine = chaine.lower()  # Transform in lower caracters\n",
    "    charact_uniq = sorted(set(chaine.replace(\" \", \"\")))  #set the differents characters ent sort them\n",
    "\n",
    "    # Initialize the dictionnary which will contain our uniques characters which their occurrence.\n",
    "    dictionnaire = {}\n",
    "\n",
    "    for char in charact_uniq:\n",
    "        dictionnaire[char] = charact_uniq.count(char)  # count the occurrence for each character\n",
    "    dictionnaire_trie = {a: b for a, b in sorted(dictionnaire.items(), key=lambda item: item[1], reverse=True)}\n",
    "    c = dictionnaire_trie.keys() # set the keys\n",
    "\n",
    "    # concatain these characters\n",
    "    resultat=\"\"\n",
    "    for i in a:\n",
    "        resultat += i\n",
    "    return print(resultat)\n"
   ]
  },
  {
   "cell_type": "code",
   "execution_count": 108,
   "id": "e1afb2f8",
   "metadata": {},
   "outputs": [
    {
     "name": "stdout",
     "output_type": "stream",
     "text": [
      "iademorst\n"
     ]
    }
   ],
   "source": [
    "#Applying\n",
    "chaine = \"I am so tired\"\n",
    "SortedString(chaine)"
   ]
  }
 ],
 "metadata": {
  "kernelspec": {
   "display_name": "Python 3",
   "language": "python",
   "name": "python3"
  },
  "language_info": {
   "codemirror_mode": {
    "name": "ipython",
    "version": 3
   },
   "file_extension": ".py",
   "mimetype": "text/x-python",
   "name": "python",
   "nbconvert_exporter": "python",
   "pygments_lexer": "ipython3",
   "version": "3.11.2"
  }
 },
 "nbformat": 4,
 "nbformat_minor": 5
}
