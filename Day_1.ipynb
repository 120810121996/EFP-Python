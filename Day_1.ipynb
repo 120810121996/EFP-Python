{
 "cells": [
  {
   "cell_type": "code",
   "execution_count": 14,
   "id": "7787e312",
   "metadata": {},
   "outputs": [],
   "source": [
    "def addup(liste,a):\n",
    "    for i in range(len(liste)):\n",
    "        for j in range(i+1,len(liste)):\n",
    "            if (liste[i]+liste[j])==a:\n",
    "                return (i,j)"
   ]
  },
  {
   "cell_type": "code",
   "execution_count": 16,
   "id": "d54cb027",
   "metadata": {},
   "outputs": [
    {
     "data": {
      "text/plain": [
       "(0, 5)"
      ]
     },
     "execution_count": 16,
     "metadata": {},
     "output_type": "execute_result"
    }
   ],
   "source": [
    "b=[3,7,9,0,6,1]\n",
    "t=4\n",
    "addup(b,t)"
   ]
  }
 ],
 "metadata": {
  "kernelspec": {
   "display_name": "Python 3 (ipykernel)",
   "language": "python",
   "name": "python3"
  },
  "language_info": {
   "codemirror_mode": {
    "name": "ipython",
    "version": 3
   },
   "file_extension": ".py",
   "mimetype": "text/x-python",
   "name": "python",
   "nbconvert_exporter": "python",
   "pygments_lexer": "ipython3",
   "version": "3.11.2"
  }
 },
 "nbformat": 4,
 "nbformat_minor": 5
}
