{
 "cells": [
  {
   "cell_type": "markdown",
   "id": "bea6fb08",
   "metadata": {},
   "source": [
    "# Day_1"
   ]
  },
  {
   "cell_type": "code",
   "execution_count": 14,
   "id": "7787e312",
   "metadata": {},
   "outputs": [],
   "source": [
    "#Given an array of intergers and an integer target, retun indices of the two nimbers such that they add up to target\n",
    "\n",
    "def addup(liste,a):\n",
    "    for i in range(len(liste)):\n",
    "        for j in range(i+1,len(liste)):\n",
    "            if (liste[i]+liste[j])==a:\n",
    "                return (i,j)\n",
    "            \n",
    "b=[3,7,9,0,6,1]\n",
    "t=4\n",
    "addup(b,t)"
   ]
  },
  {
   "cell_type": "markdown",
   "id": "956d1771",
   "metadata": {},
   "source": [
    "# Day_2"
   ]
  },
  {
   "cell_type": "code",
   "execution_count": 40,
   "id": "b4cfff04",
   "metadata": {},
   "outputs": [],
   "source": [
    " def sumSubarray(nums):\n",
    "    # define our variables with the first element of our liste\n",
    "    t=nums[0]\n",
    "    sum =nums[0] \n",
    "\n",
    "    \n",
    "    for i in range(1,len(nums)-1):\n",
    "        \n",
    "        # update the value of t\n",
    "        if nums[i] > t+nums[i]:\n",
    "           t=nums[i]\n",
    "        else:\n",
    "           t= t + nums[i]\n",
    "\n",
    "      #update the value of sum\n",
    "        if t > sum:\n",
    "           sum = t\n",
    "    return sum #return the sum of the element of the subarray\n"
   ]
  },
  {
   "cell_type": "code",
   "execution_count": 41,
   "id": "e5105d1c",
   "metadata": {},
   "outputs": [
    {
     "data": {
      "text/plain": [
       "74"
      ]
     },
     "execution_count": 41,
     "metadata": {},
     "output_type": "execute_result"
    }
   ],
   "source": [
    "#example of application\n",
    "sumSubarray([3,66,1,4,-67])"
   ]
  },
  {
   "cell_type": "markdown",
   "id": "6b4b755b",
   "metadata": {},
   "source": [
    "# Days_3"
   ]
  },
  {
   "cell_type": "code",
   "execution_count": 42,
   "id": "b26f4c95",
   "metadata": {},
   "outputs": [],
   "source": [
    "dic = {\"object_1\" : \"red\", \"object_2\": \"blue\", \"object_3\":\"white\", \"object_4\" : \"red\", \"object_5\": \"blue\", \"object_6\" : \"red\", \"object_7\": \"blue\", \"object_8\":\"white\",\"object_9\":\"white\"}"
   ]
  },
  {
   "cell_type": "code",
   "execution_count": null,
   "id": "a87d8e27",
   "metadata": {},
   "outputs": [],
   "source": []
  }
 ],
 "metadata": {
  "kernelspec": {
   "display_name": "data_prep",
   "language": "python",
   "name": "python3"
  },
  "language_info": {
   "codemirror_mode": {
    "name": "ipython",
    "version": 3
   },
   "file_extension": ".py",
   "mimetype": "text/x-python",
   "name": "python",
   "nbconvert_exporter": "python",
   "pygments_lexer": "ipython3",
   "version": "3.12.5"
  }
 },
 "nbformat": 4,
 "nbformat_minor": 5
}
