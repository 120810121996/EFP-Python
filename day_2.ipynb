{
 "cells": [
  {
   "cell_type": "code",
   "execution_count": 1,
   "id": "0b081663",
   "metadata": {},
   "outputs": [],
   "source": [
    " def sumSubarray(nums):\n",
    "    # define our variables with the first element of our liste\n",
    "    t=nums[0]\n",
    "    sum =nums[0] \n",
    "\n",
    "    \n",
    "    for i in range(1,len(nums)-1):\n",
    "        \n",
    "        # update the value of t\n",
    "        if nums[i] > t+nums[i]:\n",
    "           t=nums[i]\n",
    "        else:\n",
    "           t= t + nums[i]\n",
    "\n",
    "      #update the value of sum\n",
    "        if t > sum:\n",
    "           sum = t\n",
    "    return sum #return the sum of the element of the subarray\n"
   ]
  },
  {
   "cell_type": "code",
   "execution_count": 2,
   "id": "394e3643",
   "metadata": {},
   "outputs": [
    {
     "data": {
      "text/plain": [
       "74"
      ]
     },
     "execution_count": 2,
     "metadata": {},
     "output_type": "execute_result"
    }
   ],
   "source": [
    "#example of application\n",
    "sumSubarray([3,66,1,4,-67])"
   ]
  }
 ],
 "metadata": {
  "kernelspec": {
   "display_name": "Python 3",
   "language": "python",
   "name": "python3"
  },
  "language_info": {
   "codemirror_mode": {
    "name": "ipython",
    "version": 3
   },
   "file_extension": ".py",
   "mimetype": "text/x-python",
   "name": "python",
   "nbconvert_exporter": "python",
   "pygments_lexer": "ipython3",
   "version": "3.11.2"
  }
 },
 "nbformat": 4,
 "nbformat_minor": 5
}
